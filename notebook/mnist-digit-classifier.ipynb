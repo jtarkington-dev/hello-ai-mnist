{
 "cells": [
  {
   "cell_type": "markdown",
   "id": "251bfb9a",
   "metadata": {},
   "source": [
    "# MNIST Digit Classifier with PyTorch\n",
    "\n",
    "This notebook walks through training a simple neural network to recognize handwritten digits (0–9) using the MNIST dataset.  \n",
    "It uses PyTorch for model definition and training, and evaluates accuracy after 5 training epochs.\n"
   ]
  },
  {
   "cell_type": "code",
   "execution_count": 7,
   "id": "7fbcfac8",
   "metadata": {},
   "outputs": [],
   "source": [
    "import torch\n",
    "import torch.nn as nn\n",
    "import torch.nn.functional as F\n",
    "import torch.optim as optim\n",
    "from torchvision import datasets, transforms\n",
    "import matplotlib.pyplot as plt\n"
   ]
  },
  {
   "cell_type": "markdown",
   "id": "e7d39bf6",
   "metadata": {},
   "source": [
    "## Step 1: Set Device (CPU or GPU)\n",
    "\n",
    "Check if a GPU is available and use it — this speeds up training if supported. Otherwise, default to the CPU.\n"
   ]
  },
  {
   "cell_type": "code",
   "execution_count": 9,
   "id": "aaf7cdea",
   "metadata": {},
   "outputs": [
    {
     "name": "stdout",
     "output_type": "stream",
     "text": [
      "Using device: cpu\n"
     ]
    }
   ],
   "source": [
    "device = torch.device(\"cuda\" if torch.cuda.is_available() else \"cpu\")\n",
    "print(f\"Using device: {device}\")\n"
   ]
  },
  {
   "cell_type": "markdown",
   "id": "fa1bce32",
   "metadata": {},
   "source": [
    "## Step 2: Load and Preprocess the MNIST Dataset\n",
    "\n",
    "We load the MNIST dataset of 28x28 grayscale digit images.  \n",
    "Each image is transformed into a tensor and normalized to improve learning.\n"
   ]
  },
  {
   "cell_type": "code",
   "execution_count": 12,
   "id": "d31cbfe1",
   "metadata": {},
   "outputs": [],
   "source": [
    "transform = transforms.Compose([\n",
    "    transforms.ToTensor(),\n",
    "    transforms.Normalize((0.1307,), (0.3081,))  # mean and std dev for MNIST\n",
    "])\n",
    "\n",
    "train_dataset = datasets.MNIST(root='./data', train=True, download=True, transform=transform)\n",
    "test_dataset = datasets.MNIST(root='./data', train=False, download=True, transform=transform)\n",
    "\n",
    "train_loader = torch.utils.data.DataLoader(train_dataset, batch_size=64, shuffle=True)\n",
    "test_loader = torch.utils.data.DataLoader(test_dataset, batch_size=1000, shuffle=False)\n",
    "\n"
   ]
  },
  {
   "cell_type": "markdown",
   "id": "b4626f55",
   "metadata": {},
   "source": [
    "## Step 3: Define the Neural Network\n",
    "\n",
    "This is a fully connected neural network with:\n",
    "- Two hidden layers (128 and 64 neurons)\n",
    "- ReLU activations\n",
    "- An output layer for 10 digit classes (0–9)\n",
    "- Log-Softmax to produce probability-like outputs\n"
   ]
  },
  {
   "cell_type": "code",
   "execution_count": 13,
   "id": "4e7ac3fa",
   "metadata": {},
   "outputs": [
    {
     "name": "stdout",
     "output_type": "stream",
     "text": [
      "Net(\n",
      "  (fc1): Linear(in_features=784, out_features=128, bias=True)\n",
      "  (fc2): Linear(in_features=128, out_features=64, bias=True)\n",
      "  (fc3): Linear(in_features=64, out_features=10, bias=True)\n",
      ")\n"
     ]
    }
   ],
   "source": [
    "class Net(nn.Module):\n",
    "    def __init__(self):\n",
    "        super(Net, self).__init__()\n",
    "        self.fc1 = nn.Linear(28 * 28, 128)\n",
    "        self.fc2 = nn.Linear(128, 64)\n",
    "        self.fc3 = nn.Linear(64, 10)\n",
    "\n",
    "    def forward(self, x):\n",
    "        x = x.view(-1, 28 * 28)  # Flatten the image\n",
    "        x = F.relu(self.fc1(x))\n",
    "        x = F.relu(self.fc2(x))\n",
    "        x = self.fc3(x)\n",
    "        return F.log_softmax(x, dim=1)\n",
    "\n",
    "model = Net().to(device)\n",
    "print(model)\n"
   ]
  },
  {
   "cell_type": "markdown",
   "id": "11786a3f",
   "metadata": {},
   "source": [
    "## Step 4: Train the Model\n",
    "\n",
    "We train the model for 5 epochs using the Adam optimizer and negative log likelihood loss.  \n",
    "Each batch of images is passed through the model, the error is calculated, and the weights are updated.\n"
   ]
  },
  {
   "cell_type": "code",
   "execution_count": 14,
   "id": "4621daae",
   "metadata": {},
   "outputs": [
    {
     "name": "stdout",
     "output_type": "stream",
     "text": [
      "Epoch 1: Average Loss = 0.2705\n",
      "Epoch 2: Average Loss = 0.1135\n",
      "Epoch 3: Average Loss = 0.0784\n",
      "Epoch 4: Average Loss = 0.0617\n",
      "Epoch 5: Average Loss = 0.0489\n"
     ]
    }
   ],
   "source": [
    "optimizer = optim.Adam(model.parameters(), lr=0.001)\n",
    "epochs = 5\n",
    "\n",
    "for epoch in range(1, epochs + 1):\n",
    "    model.train()\n",
    "    running_loss = 0.0\n",
    "\n",
    "    for batch_idx, (data, target) in enumerate(train_loader):\n",
    "        data, target = data.to(device), target.to(device)\n",
    "\n",
    "        optimizer.zero_grad()\n",
    "        output = model(data)\n",
    "        loss = F.nll_loss(output, target)\n",
    "        loss.backward()\n",
    "        optimizer.step()\n",
    "\n",
    "        running_loss += loss.item()\n",
    "\n",
    "    avg_loss = running_loss / len(train_loader)\n",
    "    print(f\"Epoch {epoch}: Average Loss = {avg_loss:.4f}\")\n"
   ]
  },
  {
   "cell_type": "markdown",
   "id": "ba7a0e21",
   "metadata": {},
   "source": [
    "## Step 5: Evaluate the Model\n",
    "\n",
    "We evaluate the trained model on the test dataset.  \n",
    "This gives us the overall accuracy — the percentage of digits the model correctly classifies.\n"
   ]
  },
  {
   "cell_type": "code",
   "execution_count": 15,
   "id": "2748d189",
   "metadata": {},
   "outputs": [
    {
     "name": "stdout",
     "output_type": "stream",
     "text": [
      "Test Accuracy: 97.53%\n"
     ]
    }
   ],
   "source": [
    "model.eval()  # set to evaluation mode\n",
    "correct = 0\n",
    "total = 0\n",
    "\n",
    "with torch.no_grad():  # disable gradient tracking for faster inference\n",
    "    for data, target in test_loader:\n",
    "        data, target = data.to(device), target.to(device)\n",
    "        output = model(data)\n",
    "        pred = output.argmax(dim=1, keepdim=True)  # get the index of the highest log-probability\n",
    "        correct += pred.eq(target.view_as(pred)).sum().item()\n",
    "        total += target.size(0)\n",
    "\n",
    "accuracy = 100. * correct / total\n",
    "print(f\"Test Accuracy: {accuracy:.2f}%\")\n"
   ]
  },
  {
   "cell_type": "markdown",
   "id": "fbe3b302",
   "metadata": {},
   "source": [
    "## Step 6: Save the Trained Model\n",
    "\n",
    "Save the trained model's weights to a file so it can be reloaded later without retraining.\n"
   ]
  },
  {
   "cell_type": "code",
   "execution_count": 16,
   "id": "211301a7",
   "metadata": {},
   "outputs": [
    {
     "name": "stdout",
     "output_type": "stream",
     "text": [
      "Model saved to mnist_model.pth\n"
     ]
    }
   ],
   "source": [
    "torch.save(model.state_dict(), \"mnist_model.pth\")\n",
    "print(\"Model saved to mnist_model.pth\")\n"
   ]
  }
 ],
 "metadata": {
  "kernelspec": {
   "display_name": "venv",
   "language": "python",
   "name": "python3"
  },
  "language_info": {
   "codemirror_mode": {
    "name": "ipython",
    "version": 3
   },
   "file_extension": ".py",
   "mimetype": "text/x-python",
   "name": "python",
   "nbconvert_exporter": "python",
   "pygments_lexer": "ipython3",
   "version": "3.12.10"
  }
 },
 "nbformat": 4,
 "nbformat_minor": 5
}
